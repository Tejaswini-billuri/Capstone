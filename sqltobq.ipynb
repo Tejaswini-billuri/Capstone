{
 "cells": [
  {
   "cell_type": "code",
   "execution_count": 2,
   "id": "054353ee",
   "metadata": {},
   "outputs": [],
   "source": [
    "import datetime\n",
    "\n",
    "from google.cloud import bigquery\n",
    "import pandas as pd\n",
    "import pytz\n",
    "from google.oauth2 import service_account\n",
    "import numpy as np"
   ]
  },
  {
   "cell_type": "code",
   "execution_count": 3,
   "id": "01f06a26",
   "metadata": {},
   "outputs": [],
   "source": [
    "credentials = service_account.Credentials.from_service_account_file('pax-11-366616-3e921bf3ac9e.json')"
   ]
  },
  {
   "cell_type": "code",
   "execution_count": 4,
   "id": "0defb965",
   "metadata": {},
   "outputs": [],
   "source": [
    "client = bigquery.Client(credentials=credentials)"
   ]
  },
  {
   "cell_type": "code",
   "execution_count": 5,
   "id": "008fd43b",
   "metadata": {},
   "outputs": [
    {
     "name": "stdout",
     "output_type": "stream",
     "text": [
      "Requirement already satisfied: pymysql in c:\\users\\dhara\\python\\lib\\site-packages (1.0.2)\n"
     ]
    },
    {
     "name": "stderr",
     "output_type": "stream",
     "text": [
      "WARNING: Ignoring invalid distribution -rotobuf (c:\\users\\dhara\\python\\lib\\site-packages)\n",
      "WARNING: Ignoring invalid distribution -rotobuf (c:\\users\\dhara\\python\\lib\\site-packages)\n",
      "WARNING: Ignoring invalid distribution -rotobuf (c:\\users\\dhara\\python\\lib\\site-packages)\n",
      "WARNING: Ignoring invalid distribution -rotobuf (c:\\users\\dhara\\python\\lib\\site-packages)\n",
      "WARNING: Ignoring invalid distribution -rotobuf (c:\\users\\dhara\\python\\lib\\site-packages)\n",
      "WARNING: Ignoring invalid distribution -rotobuf (c:\\users\\dhara\\python\\lib\\site-packages)\n"
     ]
    }
   ],
   "source": [
    "!pip3 install pymysql"
   ]
  },
  {
   "cell_type": "code",
   "execution_count": 6,
   "id": "609734bc",
   "metadata": {},
   "outputs": [],
   "source": [
    "import pymysql"
   ]
  },
  {
   "cell_type": "code",
   "execution_count": 7,
   "id": "2535e309",
   "metadata": {},
   "outputs": [],
   "source": [
    "\n",
    "# Connect to the database\n",
    "connection = pymysql.connect(host='34.148.88.4',\n",
    "                         user='root',\n",
    "                         password='tejaswini',\n",
    "                         db='oltp_schema')\n",
    "\n",
    "# create cursor\n",
    "cursor=connection.cursor()"
   ]
  },
  {
   "cell_type": "code",
   "execution_count": 8,
   "id": "a3bea921",
   "metadata": {
    "scrolled": true
   },
   "outputs": [
    {
     "name": "stderr",
     "output_type": "stream",
     "text": [
      "C:\\Users\\dhara\\PYTHON\\lib\\site-packages\\pandas\\io\\sql.py:761: UserWarning: pandas only support SQLAlchemy connectable(engine/connection) ordatabase string URI or sqlite3 DBAPI2 connectionother DBAPI2 objects are not tested, please consider using SQLAlchemy\n",
      "  warnings.warn(\n",
      "C:\\Users\\dhara\\PYTHON\\lib\\site-packages\\pandas\\io\\sql.py:761: UserWarning: pandas only support SQLAlchemy connectable(engine/connection) ordatabase string URI or sqlite3 DBAPI2 connectionother DBAPI2 objects are not tested, please consider using SQLAlchemy\n",
      "  warnings.warn(\n",
      "C:\\Users\\dhara\\PYTHON\\lib\\site-packages\\pandas\\io\\sql.py:761: UserWarning: pandas only support SQLAlchemy connectable(engine/connection) ordatabase string URI or sqlite3 DBAPI2 connectionother DBAPI2 objects are not tested, please consider using SQLAlchemy\n",
      "  warnings.warn(\n",
      "C:\\Users\\dhara\\PYTHON\\lib\\site-packages\\pandas\\io\\sql.py:761: UserWarning: pandas only support SQLAlchemy connectable(engine/connection) ordatabase string URI or sqlite3 DBAPI2 connectionother DBAPI2 objects are not tested, please consider using SQLAlchemy\n",
      "  warnings.warn(\n"
     ]
    }
   ],
   "source": [
    "df_order_details=pd.read_sql(f'''select * from order_details''',connection)\n",
    "df_consumer_master=pd.read_sql(f'''select * from customer_master''',connection)\n",
    "df_order_items=pd.read_sql(f'''select * from order_items''',connection)\n",
    "df_product_master=pd.read_sql(f'''select * from product_master''',connection)"
   ]
  },
  {
   "cell_type": "code",
   "execution_count": 9,
   "id": "6020488b",
   "metadata": {},
   "outputs": [],
   "source": [
    "def insert_dim_order(df_order_details):\n",
    "    g = df_order_details\n",
    "    #g = df_order_details.groupby(\"orderid\").tail(1)\n",
    "    x = g[[\"orderid\",\"order_status_update_timestamp\",\"order_status\"]]\n",
    "    dim_order = x.reset_index()\n",
    "    del dim_order[\"index\"]\n",
    "    return dim_order"
   ]
  },
  {
   "cell_type": "code",
   "execution_count": 10,
   "id": "c660ea7d",
   "metadata": {},
   "outputs": [],
   "source": [
    "def insert_dim_customer(df_consumer_master):\n",
    "    df_consumer_master[\"address_id\"] = list(range(1,1001))\n",
    "    dim_customer =df_consumer_master[[\"customerid\",\"name\",\"address_id\"]]\n",
    "    dim_customer[\"start_date\"]= (df_consumer_master['update_timestamp'].dt.date).astype('datetime64')\n",
    "    dim_customer[\"end_date\"] = np.nan\n",
    "    dim_customer[\"end_date\"]=pd.to_datetime(dim_customer[\"end_date\"])\n",
    "    return dim_customer"
   ]
  },
  {
   "cell_type": "code",
   "execution_count": 11,
   "id": "17a31265",
   "metadata": {},
   "outputs": [],
   "source": [
    "def insert_dim_address(df_consumer_master):\n",
    "    df_consumer_master[\"address_id\"] = list(range(1,1001))\n",
    "    dim_address = df_consumer_master[[\"address_id\",\"address\",\"city\",\"state\",\"pincode\"]]\n",
    "    return dim_address"
   ]
  },
  {
   "cell_type": "code",
   "execution_count": 12,
   "id": "e7c9dc62",
   "metadata": {},
   "outputs": [],
   "source": [
    "def insert_dim_product(df_product_master):\n",
    "    dim_product = df_product_master\n",
    "    dim_product[\"start_date\"]=np.nan\n",
    "    dim_product[\"start_date\"]=pd.to_datetime(dim_product[\"start_date\"])\n",
    "    dim_product[\"end_date\"]=np.nan\n",
    "    dim_product[\"end_date\"]=pd.to_datetime(dim_product[\"end_date\"])\n",
    "    return dim_product"
   ]
  },
  {
   "cell_type": "code",
   "execution_count": 13,
   "id": "0713e4d9",
   "metadata": {},
   "outputs": [],
   "source": [
    "def insert_f_order_details(df_order_details,df_order_items):\n",
    "    f_order_details = pd.merge(df_order_details.groupby(\"orderid\").tail(1), df_order_items, how='inner')[[\"orderid\",\"order_status_update_timestamp\",\"productid\",\"quantity\"]]\n",
    "    f_order_details.columns = [\"orderid\",\"order_delivery_timestamp\",\"productid\",\"quantity\"]\n",
    "    return f_order_details"
   ]
  },
  {
   "cell_type": "code",
   "execution_count": 14,
   "id": "8f0951df",
   "metadata": {},
   "outputs": [],
   "source": [
    "def insert_fact_daily_orders(df_consumer_master,df_order_details,df_order_items):\n",
    "    x=df_order_details.groupby(\"orderid\").head(1)[[\"customerid\",\"orderid\",\"order_status_update_timestamp\"]].reset_index()\n",
    "    del x[\"index\"]\n",
    "    y=df_order_details.groupby(\"orderid\").tail(1)[\"order_status_update_timestamp\"].reset_index()\n",
    "    del y[\"index\"]     \n",
    "    fact_daily_orders = pd.concat([x,y],axis=1)\n",
    "    fact_daily_orders.columns = [\"customerid\",\"orderid\",\"order_received_timestamp\",\"order_delivery_timestamp\"]\n",
    "    l=[]\n",
    "    for i in fact_daily_orders[\"customerid\"]:\n",
    "             l.append(int(df_consumer_master.where(df_consumer_master[\"customerid\"]==i).dropna()[\"pincode\"]))\n",
    "            # l is pincode column\n",
    "    fact_daily_orders[\"pincode\"] = l\n",
    "        \n",
    "    \n",
    "    k=[]\n",
    "    for i in df_order_items[\"productid\"]:\n",
    "        k.append(int(df_product_master.where(df_product_master[\"productid\"]==i).dropna()[\"rate\"] * df_order_items.iloc[i,2] ))    \n",
    "    df_order_items[\"Total\"]=k    \n",
    "    k=[]\n",
    "    k = df_order_items.groupby('orderid').sum()[\"Total\"]\n",
    "    k1 = df_order_items.groupby('orderid').sum()[\"quantity\"]\n",
    "    fact_daily_orders[\"order_amount\"]=list(k)\n",
    "    fact_daily_orders[\"item_count\"]=list(k1)\n",
    "    fact_daily_orders[\"order_delivery_time_seconds\"] =fact_daily_orders[\"order_delivery_timestamp\"] - fact_daily_orders[\"order_received_timestamp\"]\n",
    "    return fact_daily_orders"
   ]
  },
  {
   "cell_type": "code",
   "execution_count": 43,
   "id": "26caff89",
   "metadata": {},
   "outputs": [],
   "source": [
    "def insert_fact_daily_orders(delta_orders,delta_customer,delta_products,fact_order_details):\n",
    "    fields = ['customerid','orderid','order_received_timestamp','order_delivery_timestamp','pincode','order_amount','item_count','order_delivery_time_seconds']\n",
    "    fact_daily_orders = pd.DataFrame(columns=fields)\n",
    "    \n",
    "    received_df = delta_orders.where(delta_orders['order_status']=='Received').dropna()[['customerid','orderid','order_status_update_timestamp']]\n",
    "    delivered_df = delta_orders.where(delta_orders['order_status']=='Delivered').dropna()[['customerid','orderid','order_status_update_timestamp']]\n",
    "    temp_df = pd.merge(received_df, delivered_df, on=['customerid','orderid'], how='left')\n",
    "    \n",
    "    temp_df['order_delivery_time_seconds']=pd.to_datetime(temp_df['order_status_update_timestamp_y'])-pd.to_datetime(temp_df['order_status_update_timestamp_x'])\n",
    "    temp_df['order_delivery_time_seconds']=temp_df['order_delivery_time_seconds']/np.timedelta64(1,'s')\n",
    "    \n",
    "    temp_df.rename(columns = {'order_status_update_timestamp_x':'order_received_timestamp',\n",
    "                        'order_status_update_timestamp_y':'order_delivery_timestamp'}, inplace = True)\n",
    "    \n",
    "    temp_df = pd.merge(temp_df, delta_customer, on=['customerid'], how='left')\n",
    "    temp_df = temp_df.drop(['name','address','city','state','update_timestamp'],axis=1)\n",
    "    \n",
    "    #df= pd.merge(temp_df,delta_products, on ='productid',how='left')\n",
    "    \n",
    "    #Derive Order_amount column\n",
    "    df= pd.merge(fact_order_details,delta_products, on ='productid',how='left')\n",
    "    df['order_amount'] = df['quantity']*df['rate']\n",
    "    df = df.drop(['productcode','productname','sku','isactive'],axis=1)\n",
    "    \n",
    "    amounts= df[['orderid','order_amount']]\n",
    "    amounts= amounts.groupby('orderid').sum()\n",
    "    \n",
    "    quants = df[['orderid','quantity']]\n",
    "    quants= quants.groupby('orderid').sum()\n",
    "    \n",
    "    temp_df = pd.merge(temp_df,amounts,on='orderid',how='left')\n",
    "    fact_daily_orders = pd.merge(temp_df,quants,on='orderid',how='left')\n",
    "    fact_daily_orders.rename(columns = {'quantity':'item_count'}, inplace = True)\n",
    "    fact_daily_orders.fillna(0, inplace=True)\n",
    "    fact_daily_orders.drop(['address_id'],axis=1, inplace=True)\n",
    "    \n",
    "    return fact_daily_orders"
   ]
  },
  {
   "cell_type": "code",
   "execution_count": 44,
   "id": "e04f0698",
   "metadata": {},
   "outputs": [],
   "source": [
    "def FactOrderDetailsTransform(delta_orders,delta_order_items):\n",
    "    delivered_df = delta_orders.where(delta_orders['order_status']=='Delivered').dropna()[['customerid','orderid','order_status_update_timestamp']]\n",
    "    df = pd.merge(delta_order_items,delivered_df,on='orderid',how='left')\n",
    "    df = df.drop(['customerid'],axis=1)\n",
    "    df.rename(columns = {'order_status_update_timestamp':'order_delivery_timestamp'}, inplace = True)\n",
    "    df.index=np.arange(1,len(df)+1) \n",
    "    \n",
    "    return df"
   ]
  },
  {
   "cell_type": "code",
   "execution_count": 45,
   "id": "d3bd3248",
   "metadata": {},
   "outputs": [],
   "source": [
    "fact_order_details = FactOrderDetailsTransform(df_order_details, df_order_items)"
   ]
  },
  {
   "cell_type": "code",
   "execution_count": 46,
   "id": "abf28610",
   "metadata": {},
   "outputs": [],
   "source": [
    "fact_daily_orders = insert_fact_daily_orders(df_order_details,df_consumer_master,df_product_master,fact_order_details)"
   ]
  },
  {
   "cell_type": "code",
   "execution_count": 47,
   "id": "3b2f3a49",
   "metadata": {},
   "outputs": [
    {
     "data": {
      "text/html": [
       "<div>\n",
       "<style scoped>\n",
       "    .dataframe tbody tr th:only-of-type {\n",
       "        vertical-align: middle;\n",
       "    }\n",
       "\n",
       "    .dataframe tbody tr th {\n",
       "        vertical-align: top;\n",
       "    }\n",
       "\n",
       "    .dataframe thead th {\n",
       "        text-align: right;\n",
       "    }\n",
       "</style>\n",
       "<table border=\"1\" class=\"dataframe\">\n",
       "  <thead>\n",
       "    <tr style=\"text-align: right;\">\n",
       "      <th></th>\n",
       "      <th>customerid</th>\n",
       "      <th>orderid</th>\n",
       "      <th>order_received_timestamp</th>\n",
       "      <th>order_delivery_timestamp</th>\n",
       "      <th>order_delivery_time_seconds</th>\n",
       "      <th>pincode</th>\n",
       "      <th>order_amount</th>\n",
       "      <th>item_count</th>\n",
       "    </tr>\n",
       "  </thead>\n",
       "  <tbody>\n",
       "    <tr>\n",
       "      <th>0</th>\n",
       "      <td>50.0</td>\n",
       "      <td>1.0</td>\n",
       "      <td>2022-11-19 16:48:54</td>\n",
       "      <td>2022-11-20 14:22:07</td>\n",
       "      <td>77593.0</td>\n",
       "      <td>111463</td>\n",
       "      <td>5968</td>\n",
       "      <td>5</td>\n",
       "    </tr>\n",
       "    <tr>\n",
       "      <th>1</th>\n",
       "      <td>990.0</td>\n",
       "      <td>2.0</td>\n",
       "      <td>2022-03-30 02:00:36</td>\n",
       "      <td>2022-03-30 18:07:56</td>\n",
       "      <td>58040.0</td>\n",
       "      <td>843590</td>\n",
       "      <td>10930</td>\n",
       "      <td>9</td>\n",
       "    </tr>\n",
       "    <tr>\n",
       "      <th>2</th>\n",
       "      <td>627.0</td>\n",
       "      <td>3.0</td>\n",
       "      <td>2022-07-22 06:23:57</td>\n",
       "      <td>2022-07-23 17:28:13</td>\n",
       "      <td>126256.0</td>\n",
       "      <td>640651</td>\n",
       "      <td>9365</td>\n",
       "      <td>6</td>\n",
       "    </tr>\n",
       "    <tr>\n",
       "      <th>3</th>\n",
       "      <td>916.0</td>\n",
       "      <td>4.0</td>\n",
       "      <td>2022-09-07 11:36:35</td>\n",
       "      <td>2022-09-07 16:20:29</td>\n",
       "      <td>17034.0</td>\n",
       "      <td>363894</td>\n",
       "      <td>6892</td>\n",
       "      <td>7</td>\n",
       "    </tr>\n",
       "    <tr>\n",
       "      <th>4</th>\n",
       "      <td>24.0</td>\n",
       "      <td>5.0</td>\n",
       "      <td>2022-03-10 00:00:55</td>\n",
       "      <td>2022-03-10 20:49:25</td>\n",
       "      <td>74910.0</td>\n",
       "      <td>775124</td>\n",
       "      <td>23616</td>\n",
       "      <td>15</td>\n",
       "    </tr>\n",
       "  </tbody>\n",
       "</table>\n",
       "</div>"
      ],
      "text/plain": [
       "   customerid  orderid order_received_timestamp order_delivery_timestamp  \\\n",
       "0        50.0      1.0      2022-11-19 16:48:54      2022-11-20 14:22:07   \n",
       "1       990.0      2.0      2022-03-30 02:00:36      2022-03-30 18:07:56   \n",
       "2       627.0      3.0      2022-07-22 06:23:57      2022-07-23 17:28:13   \n",
       "3       916.0      4.0      2022-09-07 11:36:35      2022-09-07 16:20:29   \n",
       "4        24.0      5.0      2022-03-10 00:00:55      2022-03-10 20:49:25   \n",
       "\n",
       "   order_delivery_time_seconds  pincode  order_amount  item_count  \n",
       "0                      77593.0   111463          5968           5  \n",
       "1                      58040.0   843590         10930           9  \n",
       "2                     126256.0   640651          9365           6  \n",
       "3                      17034.0   363894          6892           7  \n",
       "4                      74910.0   775124         23616          15  "
      ]
     },
     "execution_count": 47,
     "metadata": {},
     "output_type": "execute_result"
    }
   ],
   "source": [
    "fact_daily_orders.head()"
   ]
  },
  {
   "cell_type": "code",
   "execution_count": 15,
   "id": "7bac7a25",
   "metadata": {},
   "outputs": [],
   "source": [
    "dim_order = insert_dim_order(df_order_details)"
   ]
  },
  {
   "cell_type": "code",
   "execution_count": 16,
   "id": "4797e00b",
   "metadata": {},
   "outputs": [
    {
     "data": {
      "text/html": [
       "<div>\n",
       "<style scoped>\n",
       "    .dataframe tbody tr th:only-of-type {\n",
       "        vertical-align: middle;\n",
       "    }\n",
       "\n",
       "    .dataframe tbody tr th {\n",
       "        vertical-align: top;\n",
       "    }\n",
       "\n",
       "    .dataframe thead th {\n",
       "        text-align: right;\n",
       "    }\n",
       "</style>\n",
       "<table border=\"1\" class=\"dataframe\">\n",
       "  <thead>\n",
       "    <tr style=\"text-align: right;\">\n",
       "      <th></th>\n",
       "      <th>orderid</th>\n",
       "      <th>productid</th>\n",
       "      <th>quantity</th>\n",
       "    </tr>\n",
       "  </thead>\n",
       "  <tbody>\n",
       "    <tr>\n",
       "      <th>0</th>\n",
       "      <td>1</td>\n",
       "      <td>25</td>\n",
       "      <td>1</td>\n",
       "    </tr>\n",
       "    <tr>\n",
       "      <th>1</th>\n",
       "      <td>1</td>\n",
       "      <td>26</td>\n",
       "      <td>4</td>\n",
       "    </tr>\n",
       "    <tr>\n",
       "      <th>2</th>\n",
       "      <td>2</td>\n",
       "      <td>32</td>\n",
       "      <td>4</td>\n",
       "    </tr>\n",
       "    <tr>\n",
       "      <th>3</th>\n",
       "      <td>2</td>\n",
       "      <td>33</td>\n",
       "      <td>5</td>\n",
       "    </tr>\n",
       "    <tr>\n",
       "      <th>4</th>\n",
       "      <td>3</td>\n",
       "      <td>22</td>\n",
       "      <td>1</td>\n",
       "    </tr>\n",
       "  </tbody>\n",
       "</table>\n",
       "</div>"
      ],
      "text/plain": [
       "   orderid  productid  quantity\n",
       "0        1         25         1\n",
       "1        1         26         4\n",
       "2        2         32         4\n",
       "3        2         33         5\n",
       "4        3         22         1"
      ]
     },
     "execution_count": 16,
     "metadata": {},
     "output_type": "execute_result"
    }
   ],
   "source": [
    "df_order_items.head()"
   ]
  },
  {
   "cell_type": "code",
   "execution_count": 17,
   "id": "de188a7d",
   "metadata": {},
   "outputs": [
    {
     "data": {
      "text/plain": [
       "1"
      ]
     },
     "execution_count": 17,
     "metadata": {},
     "output_type": "execute_result"
    }
   ],
   "source": [
    "df_order_items.iloc[0,2]"
   ]
  },
  {
   "cell_type": "code",
   "execution_count": 18,
   "id": "b26950e6",
   "metadata": {
    "scrolled": true
   },
   "outputs": [
    {
     "name": "stderr",
     "output_type": "stream",
     "text": [
      "C:\\Users\\dhara\\AppData\\Local\\Temp\\ipykernel_12284\\43446549.py:4: SettingWithCopyWarning: \n",
      "A value is trying to be set on a copy of a slice from a DataFrame.\n",
      "Try using .loc[row_indexer,col_indexer] = value instead\n",
      "\n",
      "See the caveats in the documentation: https://pandas.pydata.org/pandas-docs/stable/user_guide/indexing.html#returning-a-view-versus-a-copy\n",
      "  dim_customer[\"start_date\"]= (df_consumer_master['update_timestamp'].dt.date).astype('datetime64')\n",
      "C:\\Users\\dhara\\AppData\\Local\\Temp\\ipykernel_12284\\43446549.py:5: SettingWithCopyWarning: \n",
      "A value is trying to be set on a copy of a slice from a DataFrame.\n",
      "Try using .loc[row_indexer,col_indexer] = value instead\n",
      "\n",
      "See the caveats in the documentation: https://pandas.pydata.org/pandas-docs/stable/user_guide/indexing.html#returning-a-view-versus-a-copy\n",
      "  dim_customer[\"end_date\"] = np.nan\n",
      "C:\\Users\\dhara\\AppData\\Local\\Temp\\ipykernel_12284\\43446549.py:6: SettingWithCopyWarning: \n",
      "A value is trying to be set on a copy of a slice from a DataFrame.\n",
      "Try using .loc[row_indexer,col_indexer] = value instead\n",
      "\n",
      "See the caveats in the documentation: https://pandas.pydata.org/pandas-docs/stable/user_guide/indexing.html#returning-a-view-versus-a-copy\n",
      "  dim_customer[\"end_date\"]=pd.to_datetime(dim_customer[\"end_date\"])\n"
     ]
    }
   ],
   "source": [
    "dim_customer = insert_dim_customer(df_consumer_master)"
   ]
  },
  {
   "cell_type": "code",
   "execution_count": 19,
   "id": "f37eae01",
   "metadata": {},
   "outputs": [],
   "source": [
    "dim_address = insert_dim_address(df_consumer_master)"
   ]
  },
  {
   "cell_type": "code",
   "execution_count": 20,
   "id": "054db3ec",
   "metadata": {},
   "outputs": [],
   "source": [
    "dim_product=insert_dim_product(df_product_master)"
   ]
  },
  {
   "cell_type": "code",
   "execution_count": 21,
   "id": "286bf61e",
   "metadata": {},
   "outputs": [],
   "source": [
    "f_order_details = insert_f_order_details(df_order_details,df_order_items)\n"
   ]
  },
  {
   "cell_type": "code",
   "execution_count": 22,
   "id": "cd99cf6a",
   "metadata": {
    "scrolled": false
   },
   "outputs": [
    {
     "ename": "TypeError",
     "evalue": "cannot convert the series to <class 'int'>",
     "output_type": "error",
     "traceback": [
      "\u001b[1;31m---------------------------------------------------------------------------\u001b[0m",
      "\u001b[1;31mTypeError\u001b[0m                                 Traceback (most recent call last)",
      "Input \u001b[1;32mIn [22]\u001b[0m, in \u001b[0;36m<cell line: 1>\u001b[1;34m()\u001b[0m\n\u001b[1;32m----> 1\u001b[0m fact_daily_orders \u001b[38;5;241m=\u001b[39m \u001b[43minsert_fact_daily_orders\u001b[49m\u001b[43m(\u001b[49m\u001b[43mdf_consumer_master\u001b[49m\u001b[43m,\u001b[49m\u001b[43mdf_order_details\u001b[49m\u001b[43m,\u001b[49m\u001b[43mdf_order_items\u001b[49m\u001b[43m)\u001b[49m\n",
      "Input \u001b[1;32mIn [14]\u001b[0m, in \u001b[0;36minsert_fact_daily_orders\u001b[1;34m(df_consumer_master, df_order_details, df_order_items)\u001b[0m\n\u001b[0;32m     15\u001b[0m k\u001b[38;5;241m=\u001b[39m[]\n\u001b[0;32m     16\u001b[0m \u001b[38;5;28;01mfor\u001b[39;00m i \u001b[38;5;129;01min\u001b[39;00m df_order_items[\u001b[38;5;124m\"\u001b[39m\u001b[38;5;124mproductid\u001b[39m\u001b[38;5;124m\"\u001b[39m]:\n\u001b[1;32m---> 17\u001b[0m     k\u001b[38;5;241m.\u001b[39mappend(\u001b[38;5;28;43mint\u001b[39;49m\u001b[43m(\u001b[49m\u001b[43mdf_product_master\u001b[49m\u001b[38;5;241;43m.\u001b[39;49m\u001b[43mwhere\u001b[49m\u001b[43m(\u001b[49m\u001b[43mdf_product_master\u001b[49m\u001b[43m[\u001b[49m\u001b[38;5;124;43m\"\u001b[39;49m\u001b[38;5;124;43mproductid\u001b[39;49m\u001b[38;5;124;43m\"\u001b[39;49m\u001b[43m]\u001b[49m\u001b[38;5;241;43m==\u001b[39;49m\u001b[43mi\u001b[49m\u001b[43m)\u001b[49m\u001b[38;5;241;43m.\u001b[39;49m\u001b[43mdropna\u001b[49m\u001b[43m(\u001b[49m\u001b[43m)\u001b[49m\u001b[43m[\u001b[49m\u001b[38;5;124;43m\"\u001b[39;49m\u001b[38;5;124;43mrate\u001b[39;49m\u001b[38;5;124;43m\"\u001b[39;49m\u001b[43m]\u001b[49m\u001b[43m \u001b[49m\u001b[38;5;241;43m*\u001b[39;49m\u001b[43m \u001b[49m\u001b[43mdf_order_items\u001b[49m\u001b[38;5;241;43m.\u001b[39;49m\u001b[43miloc\u001b[49m\u001b[43m[\u001b[49m\u001b[43mi\u001b[49m\u001b[43m,\u001b[49m\u001b[38;5;241;43m2\u001b[39;49m\u001b[43m]\u001b[49m\u001b[43m \u001b[49m\u001b[43m)\u001b[49m)    \n\u001b[0;32m     18\u001b[0m df_order_items[\u001b[38;5;124m\"\u001b[39m\u001b[38;5;124mTotal\u001b[39m\u001b[38;5;124m\"\u001b[39m]\u001b[38;5;241m=\u001b[39mk    \n\u001b[0;32m     19\u001b[0m k\u001b[38;5;241m=\u001b[39m[]\n",
      "File \u001b[1;32m~\\PYTHON\\lib\\site-packages\\pandas\\core\\series.py:191\u001b[0m, in \u001b[0;36m_coerce_method.<locals>.wrapper\u001b[1;34m(self)\u001b[0m\n\u001b[0;32m    189\u001b[0m \u001b[38;5;28;01mif\u001b[39;00m \u001b[38;5;28mlen\u001b[39m(\u001b[38;5;28mself\u001b[39m) \u001b[38;5;241m==\u001b[39m \u001b[38;5;241m1\u001b[39m:\n\u001b[0;32m    190\u001b[0m     \u001b[38;5;28;01mreturn\u001b[39;00m converter(\u001b[38;5;28mself\u001b[39m\u001b[38;5;241m.\u001b[39miloc[\u001b[38;5;241m0\u001b[39m])\n\u001b[1;32m--> 191\u001b[0m \u001b[38;5;28;01mraise\u001b[39;00m \u001b[38;5;167;01mTypeError\u001b[39;00m(\u001b[38;5;124mf\u001b[39m\u001b[38;5;124m\"\u001b[39m\u001b[38;5;124mcannot convert the series to \u001b[39m\u001b[38;5;132;01m{\u001b[39;00mconverter\u001b[38;5;132;01m}\u001b[39;00m\u001b[38;5;124m\"\u001b[39m)\n",
      "\u001b[1;31mTypeError\u001b[0m: cannot convert the series to <class 'int'>"
     ]
    }
   ],
   "source": [
    "fact_daily_orders = insert_fact_daily_orders(df_consumer_master,df_order_details,df_order_items)"
   ]
  },
  {
   "cell_type": "code",
   "execution_count": 59,
   "id": "fa26d790",
   "metadata": {},
   "outputs": [
    {
     "data": {
      "text/plain": [
       "LoadJob<project=pax-11-366616, location=US, id=7f85af4b-4d7d-4fd0-8bcf-6c56b5af5ba2>"
      ]
     },
     "execution_count": 59,
     "metadata": {},
     "output_type": "execute_result"
    }
   ],
   "source": [
    "tableRef1 = client.dataset(\"star_schema\").table(\"dim_order\")\n",
    "client.load_table_from_dataframe(dim_order,tableRef1)"
   ]
  },
  {
   "cell_type": "code",
   "execution_count": 60,
   "id": "dceba32f",
   "metadata": {},
   "outputs": [
    {
     "data": {
      "text/plain": [
       "LoadJob<project=pax-11-366616, location=US, id=74f61190-b72d-4232-9496-b5634debb38e>"
      ]
     },
     "execution_count": 60,
     "metadata": {},
     "output_type": "execute_result"
    }
   ],
   "source": [
    "tableRef2 = client.dataset(\"star_schema\").table(\"dim_customer\")\n",
    "client.load_table_from_dataframe(dim_customer,tableRef2)"
   ]
  },
  {
   "cell_type": "code",
   "execution_count": 61,
   "id": "306152d4",
   "metadata": {},
   "outputs": [
    {
     "data": {
      "text/plain": [
       "LoadJob<project=pax-11-366616, location=US, id=386c80aa-6851-411c-bf53-e30892915bcc>"
      ]
     },
     "execution_count": 61,
     "metadata": {},
     "output_type": "execute_result"
    }
   ],
   "source": [
    "tableRef3 = client.dataset(\"star_schema\").table(\"dim_address\")\n",
    "client.load_table_from_dataframe(dim_address,tableRef3)\n"
   ]
  },
  {
   "cell_type": "code",
   "execution_count": 62,
   "id": "034a8774",
   "metadata": {},
   "outputs": [
    {
     "data": {
      "text/plain": [
       "LoadJob<project=pax-11-366616, location=US, id=570d24f1-0aad-4ae7-9742-d8201d3ebaee>"
      ]
     },
     "execution_count": 62,
     "metadata": {},
     "output_type": "execute_result"
    }
   ],
   "source": [
    "tableRef4 = client.dataset(\"star_schema\").table(\"dim_product\")\n",
    "client.load_table_from_dataframe(dim_product,tableRef4)"
   ]
  },
  {
   "cell_type": "code",
   "execution_count": 63,
   "id": "e0cea060",
   "metadata": {},
   "outputs": [
    {
     "data": {
      "text/plain": [
       "LoadJob<project=pax-11-366616, location=US, id=21b05df4-779d-45e7-917f-e9edf5769b65>"
      ]
     },
     "execution_count": 63,
     "metadata": {},
     "output_type": "execute_result"
    }
   ],
   "source": [
    "tableRef5 = client.dataset(\"star_schema\").table(\"f_order_details\")\n",
    "client.load_table_from_dataframe(f_order_details,tableRef5)"
   ]
  },
  {
   "cell_type": "code",
   "execution_count": 48,
   "id": "3201c68d",
   "metadata": {},
   "outputs": [
    {
     "data": {
      "text/plain": [
       "LoadJob<project=pax-11-366616, location=US, id=d83f3f72-eb34-4258-89f9-ba781921286a>"
      ]
     },
     "execution_count": 48,
     "metadata": {},
     "output_type": "execute_result"
    }
   ],
   "source": [
    "tableRef6 = client.dataset(\"star_schema\").table(\"fact_daily_orders\")\n",
    "client.load_table_from_dataframe(fact_daily_orders,tableRef6)"
   ]
  },
  {
   "cell_type": "code",
   "execution_count": null,
   "id": "b6c8d913",
   "metadata": {},
   "outputs": [],
   "source": []
  }
 ],
 "metadata": {
  "kernelspec": {
   "display_name": "Python 3 (ipykernel)",
   "language": "python",
   "name": "python3"
  },
  "language_info": {
   "codemirror_mode": {
    "name": "ipython",
    "version": 3
   },
   "file_extension": ".py",
   "mimetype": "text/x-python",
   "name": "python",
   "nbconvert_exporter": "python",
   "pygments_lexer": "ipython3",
   "version": "3.9.12"
  }
 },
 "nbformat": 4,
 "nbformat_minor": 5
}
