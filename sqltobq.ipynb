{
 "cells": [
  {
   "cell_type": "code",
   "execution_count": 1,
   "id": "054353ee",
   "metadata": {},
   "outputs": [],
   "source": [
    "import datetime\n",
    "\n",
    "from google.cloud import bigquery\n",
    "import pandas as pd\n",
    "import pytz\n",
    "from google.oauth2 import service_account\n",
    "import numpy as np"
   ]
  },
  {
   "cell_type": "code",
   "execution_count": 2,
   "id": "01f06a26",
   "metadata": {},
   "outputs": [],
   "source": [
    "credentials = service_account.Credentials.from_service_account_file('pax-11-366616-3e921bf3ac9e.json')"
   ]
  },
  {
   "cell_type": "code",
   "execution_count": 3,
   "id": "0defb965",
   "metadata": {},
   "outputs": [],
   "source": [
    "client = bigquery.Client(credentials=credentials)"
   ]
  },
  {
   "cell_type": "code",
   "execution_count": 23,
   "id": "008fd43b",
   "metadata": {},
   "outputs": [
    {
     "name": "stdout",
     "output_type": "stream",
     "text": [
      "Collecting pymysql\n",
      "  Downloading PyMySQL-1.0.2-py3-none-any.whl (43 kB)\n",
      "Installing collected packages: pymysql\n",
      "Successfully installed pymysql-1.0.2\n"
     ]
    },
    {
     "name": "stderr",
     "output_type": "stream",
     "text": [
      "WARNING: Ignoring invalid distribution -rotobuf (c:\\users\\dhara\\python\\lib\\site-packages)\n",
      "WARNING: Ignoring invalid distribution -rotobuf (c:\\users\\dhara\\python\\lib\\site-packages)\n",
      "WARNING: Ignoring invalid distribution -rotobuf (c:\\users\\dhara\\python\\lib\\site-packages)\n",
      "WARNING: Ignoring invalid distribution -rotobuf (c:\\users\\dhara\\python\\lib\\site-packages)\n",
      "WARNING: Ignoring invalid distribution -rotobuf (c:\\users\\dhara\\python\\lib\\site-packages)\n",
      "WARNING: Ignoring invalid distribution -rotobuf (c:\\users\\dhara\\python\\lib\\site-packages)\n",
      "WARNING: Ignoring invalid distribution -rotobuf (c:\\users\\dhara\\python\\lib\\site-packages)\n"
     ]
    }
   ],
   "source": [
    "!pip3 install pymysql"
   ]
  },
  {
   "cell_type": "code",
   "execution_count": 24,
   "id": "609734bc",
   "metadata": {},
   "outputs": [],
   "source": [
    "import pymysql"
   ]
  },
  {
   "cell_type": "code",
   "execution_count": 27,
   "id": "2535e309",
   "metadata": {},
   "outputs": [],
   "source": [
    "\n",
    "# Connect to the database\n",
    "connection = pymysql.connect(host='34.148.88.4',\n",
    "                         user='root',\n",
    "                         password='tejaswini',\n",
    "                         db='oltp_schema')\n",
    "\n",
    "# create cursor\n",
    "cursor=connection.cursor()"
   ]
  },
  {
   "cell_type": "code",
   "execution_count": 28,
   "id": "a3bea921",
   "metadata": {
    "scrolled": true
   },
   "outputs": [
    {
     "name": "stderr",
     "output_type": "stream",
     "text": [
      "C:\\Users\\dhara\\PYTHON\\lib\\site-packages\\pandas\\io\\sql.py:761: UserWarning: pandas only support SQLAlchemy connectable(engine/connection) ordatabase string URI or sqlite3 DBAPI2 connectionother DBAPI2 objects are not tested, please consider using SQLAlchemy\n",
      "  warnings.warn(\n",
      "C:\\Users\\dhara\\PYTHON\\lib\\site-packages\\pandas\\io\\sql.py:761: UserWarning: pandas only support SQLAlchemy connectable(engine/connection) ordatabase string URI or sqlite3 DBAPI2 connectionother DBAPI2 objects are not tested, please consider using SQLAlchemy\n",
      "  warnings.warn(\n",
      "C:\\Users\\dhara\\PYTHON\\lib\\site-packages\\pandas\\io\\sql.py:761: UserWarning: pandas only support SQLAlchemy connectable(engine/connection) ordatabase string URI or sqlite3 DBAPI2 connectionother DBAPI2 objects are not tested, please consider using SQLAlchemy\n",
      "  warnings.warn(\n",
      "C:\\Users\\dhara\\PYTHON\\lib\\site-packages\\pandas\\io\\sql.py:761: UserWarning: pandas only support SQLAlchemy connectable(engine/connection) ordatabase string URI or sqlite3 DBAPI2 connectionother DBAPI2 objects are not tested, please consider using SQLAlchemy\n",
      "  warnings.warn(\n"
     ]
    }
   ],
   "source": [
    "df_order_details=pd.read_sql(f'''select * from order_details''',connection)\n",
    "df_consumer_master=pd.read_sql(f'''select * from customer_master''',connection)\n",
    "df_order_items=pd.read_sql(f'''select * from order_items''',connection)\n",
    "df_product_master=pd.read_sql(f'''select * from product_master''',connection)"
   ]
  },
  {
   "cell_type": "code",
   "execution_count": 29,
   "id": "6020488b",
   "metadata": {},
   "outputs": [],
   "source": [
    "def insert_dim_order(df_order_details):\n",
    "    g = df_order_details\n",
    "    #g = df_order_details.groupby(\"orderid\").tail(1)\n",
    "    x = g[[\"orderid\",\"order_status_update_timestamp\",\"order_status\"]]\n",
    "    dim_order = x.reset_index()\n",
    "    del dim_order[\"index\"]\n",
    "    return dim_order"
   ]
  },
  {
   "cell_type": "code",
   "execution_count": 30,
   "id": "c660ea7d",
   "metadata": {},
   "outputs": [],
   "source": [
    "def insert_dim_customer(df_consumer_master):\n",
    "    df_consumer_master[\"address_id\"] = list(range(1,1001))\n",
    "    dim_customer =df_consumer_master[[\"customerid\",\"name\",\"address_id\"]]\n",
    "    dim_customer[\"start_date\"]= (df_consumer_master['update_timestamp'].dt.date).astype('datetime64')\n",
    "    dim_customer[\"end_date\"] = np.nan\n",
    "    dim_customer[\"end_date\"]=pd.to_datetime(dim_customer[\"end_date\"])\n",
    "    return dim_customer"
   ]
  },
  {
   "cell_type": "code",
   "execution_count": 31,
   "id": "17a31265",
   "metadata": {},
   "outputs": [],
   "source": [
    "def insert_dim_address(df_consumer_master):\n",
    "    df_consumer_master[\"address_id\"] = list(range(1,1001))\n",
    "    dim_address = df_consumer_master[[\"address_id\",\"address\",\"city\",\"state\",\"pincode\"]]\n",
    "    return dim_address"
   ]
  },
  {
   "cell_type": "code",
   "execution_count": 32,
   "id": "e7c9dc62",
   "metadata": {},
   "outputs": [],
   "source": [
    "def insert_dim_product(df_product_master):\n",
    "    dim_product = df_product_master\n",
    "    dim_product[\"start_date\"]=np.nan\n",
    "    dim_product[\"start_date\"]=pd.to_datetime(dim_product[\"start_date\"])\n",
    "    dim_product[\"end_date\"]=np.nan\n",
    "    dim_product[\"end_date\"]=pd.to_datetime(dim_product[\"end_date\"])\n",
    "    return dim_product"
   ]
  },
  {
   "cell_type": "code",
   "execution_count": 33,
   "id": "0713e4d9",
   "metadata": {},
   "outputs": [],
   "source": [
    "def insert_f_order_details(df_order_details,df_order_items):\n",
    "    f_order_details = pd.merge(df_order_details.groupby(\"orderid\").tail(1), df_order_items, how='inner')[[\"orderid\",\"order_status_update_timestamp\",\"productid\",\"quantity\"]]\n",
    "    f_order_details.columns = [\"orderid\",\"order_delivery_timestamp\",\"productid\",\"quantity\"]\n",
    "    return f_order_details"
   ]
  },
  {
   "cell_type": "code",
   "execution_count": 34,
   "id": "8f0951df",
   "metadata": {},
   "outputs": [],
   "source": [
    "def insert_fact_daily_orders(df_consumer_master,df_order_details,df_order_items):\n",
    "    x=df_order_details.groupby(\"orderid\").head(1)[[\"customerid\",\"orderid\",\"order_status_update_timestamp\"]].reset_index()\n",
    "    del x[\"index\"]\n",
    "    y=df_order_details.groupby(\"orderid\").tail(1)[\"order_status_update_timestamp\"].reset_index()\n",
    "    del y[\"index\"]     \n",
    "    fact_daily_orders = pd.concat([x,y],axis=1)\n",
    "    fact_daily_orders.columns = [\"customerid\",\"orderid\",\"order_received_timestamp\",\"order_delivery_timestamp\"]\n",
    "    l=[]\n",
    "    for i in fact_daily_orders[\"customerid\"]:\n",
    "             l.append(int(df_consumer_master.where(df_consumer_master[\"customerid\"]==i).dropna()[\"pincode\"]))\n",
    "            # l is pincode column\n",
    "    fact_daily_orders[\"pincode\"] = l\n",
    "        \n",
    "    \n",
    "    k=[]\n",
    "    for i in df_order_items[\"productid\"]:\n",
    "        k.append(int(df_product_master.where(df_product_master[\"productid\"]==i).dropna()[\"rate\"] * df_order_items.iloc[i,2] ))    \n",
    "    df_order_items[\"Total\"]=k    \n",
    "    k=[]\n",
    "    k = df_order_items.groupby('orderid').sum()[\"Total\"]\n",
    "    k1 = df_order_items.groupby('orderid').sum()[\"quantity\"]\n",
    "    fact_daily_orders[\"order_amount\"]=list(k)\n",
    "    fact_daily_orders[\"item_count\"]=list(k1)\n",
    "    fact_daily_orders[\"order_delivery_time_seconds\"] =fact_daily_orders[\"order_delivery_timestamp\"] - fact_daily_orders[\"order_received_timestamp\"]\n",
    "    return fact_daily_orders"
   ]
  },
  {
   "cell_type": "code",
   "execution_count": 57,
   "id": "26caff89",
   "metadata": {},
   "outputs": [],
   "source": [
    "def insert_fact_daily_orders(df_consumer_master,df_order_details,df_order_items):\n",
    "    x=df_order_details.groupby(\"orderid\").head(1)[[\"customerid\",\"orderid\",\"order_status_update_timestamp\"]].reset_index()\n",
    "    del x[\"index\"]\n",
    "    y=df_order_details.groupby(\"orderid\").tail(1)[\"order_status_update_timestamp\"].reset_index()\n",
    "    del y[\"index\"]     \n",
    "    fact_daily_orders = pd.concat([x,y],axis=1)\n",
    "    fact_daily_orders.columns = [\"customerid\",\"orderid\",\"order_received_timestamp\",\"order_delivery_timestamp\"]\n",
    "    l=[]\n",
    "    for i in fact_daily_orders[\"customerid\"]:\n",
    "             l.append(int(df_consumer_master.where(df_consumer_master[\"customerid\"]==i).dropna()[\"pincode\"]))\n",
    "            # l is pincode column\n",
    "    fact_daily_orders[\"pincode\"] = l\n",
    "        \n",
    "    k=[]\n",
    "    df=pd.DataFrame()\n",
    "    for i in df_order_items[\"productid\"]:\n",
    "        df['price']['i]=int(df_product_master.where(df_product_master[\"productid\"]==i).dropna()[\"rate\"] * df_order_items.iloc[i,2] )\n",
    "    df['price']=list(k)\n",
    "    return df"
   ]
  },
  {
   "cell_type": "code",
   "execution_count": 35,
   "id": "7bac7a25",
   "metadata": {},
   "outputs": [],
   "source": [
    "dim_order = insert_dim_order(df_order_details)"
   ]
  },
  {
   "cell_type": "code",
   "execution_count": 46,
   "id": "4797e00b",
   "metadata": {},
   "outputs": [
    {
     "data": {
      "text/html": [
       "<div>\n",
       "<style scoped>\n",
       "    .dataframe tbody tr th:only-of-type {\n",
       "        vertical-align: middle;\n",
       "    }\n",
       "\n",
       "    .dataframe tbody tr th {\n",
       "        vertical-align: top;\n",
       "    }\n",
       "\n",
       "    .dataframe thead th {\n",
       "        text-align: right;\n",
       "    }\n",
       "</style>\n",
       "<table border=\"1\" class=\"dataframe\">\n",
       "  <thead>\n",
       "    <tr style=\"text-align: right;\">\n",
       "      <th></th>\n",
       "      <th>orderid</th>\n",
       "      <th>productid</th>\n",
       "      <th>quantity</th>\n",
       "    </tr>\n",
       "  </thead>\n",
       "  <tbody>\n",
       "    <tr>\n",
       "      <th>0</th>\n",
       "      <td>1</td>\n",
       "      <td>11</td>\n",
       "      <td>4</td>\n",
       "    </tr>\n",
       "    <tr>\n",
       "      <th>1</th>\n",
       "      <td>1</td>\n",
       "      <td>17</td>\n",
       "      <td>2</td>\n",
       "    </tr>\n",
       "    <tr>\n",
       "      <th>2</th>\n",
       "      <td>1</td>\n",
       "      <td>26</td>\n",
       "      <td>2</td>\n",
       "    </tr>\n",
       "    <tr>\n",
       "      <th>3</th>\n",
       "      <td>1</td>\n",
       "      <td>50</td>\n",
       "      <td>1</td>\n",
       "    </tr>\n",
       "    <tr>\n",
       "      <th>4</th>\n",
       "      <td>2</td>\n",
       "      <td>16</td>\n",
       "      <td>2</td>\n",
       "    </tr>\n",
       "  </tbody>\n",
       "</table>\n",
       "</div>"
      ],
      "text/plain": [
       "   orderid  productid  quantity\n",
       "0        1         11         4\n",
       "1        1         17         2\n",
       "2        1         26         2\n",
       "3        1         50         1\n",
       "4        2         16         2"
      ]
     },
     "execution_count": 46,
     "metadata": {},
     "output_type": "execute_result"
    }
   ],
   "source": [
    "df_order_items.head()"
   ]
  },
  {
   "cell_type": "code",
   "execution_count": 48,
   "id": "de188a7d",
   "metadata": {},
   "outputs": [
    {
     "data": {
      "text/plain": [
       "4"
      ]
     },
     "execution_count": 48,
     "metadata": {},
     "output_type": "execute_result"
    }
   ],
   "source": [
    "df_order_items.iloc[0,2]"
   ]
  },
  {
   "cell_type": "code",
   "execution_count": 36,
   "id": "b26950e6",
   "metadata": {
    "scrolled": true
   },
   "outputs": [
    {
     "name": "stderr",
     "output_type": "stream",
     "text": [
      "C:\\Users\\dhara\\AppData\\Local\\Temp\\ipykernel_11632\\43446549.py:4: SettingWithCopyWarning: \n",
      "A value is trying to be set on a copy of a slice from a DataFrame.\n",
      "Try using .loc[row_indexer,col_indexer] = value instead\n",
      "\n",
      "See the caveats in the documentation: https://pandas.pydata.org/pandas-docs/stable/user_guide/indexing.html#returning-a-view-versus-a-copy\n",
      "  dim_customer[\"start_date\"]= (df_consumer_master['update_timestamp'].dt.date).astype('datetime64')\n",
      "C:\\Users\\dhara\\AppData\\Local\\Temp\\ipykernel_11632\\43446549.py:5: SettingWithCopyWarning: \n",
      "A value is trying to be set on a copy of a slice from a DataFrame.\n",
      "Try using .loc[row_indexer,col_indexer] = value instead\n",
      "\n",
      "See the caveats in the documentation: https://pandas.pydata.org/pandas-docs/stable/user_guide/indexing.html#returning-a-view-versus-a-copy\n",
      "  dim_customer[\"end_date\"] = np.nan\n",
      "C:\\Users\\dhara\\AppData\\Local\\Temp\\ipykernel_11632\\43446549.py:6: SettingWithCopyWarning: \n",
      "A value is trying to be set on a copy of a slice from a DataFrame.\n",
      "Try using .loc[row_indexer,col_indexer] = value instead\n",
      "\n",
      "See the caveats in the documentation: https://pandas.pydata.org/pandas-docs/stable/user_guide/indexing.html#returning-a-view-versus-a-copy\n",
      "  dim_customer[\"end_date\"]=pd.to_datetime(dim_customer[\"end_date\"])\n"
     ]
    }
   ],
   "source": [
    "dim_customer = insert_dim_customer(df_consumer_master)"
   ]
  },
  {
   "cell_type": "code",
   "execution_count": 37,
   "id": "f37eae01",
   "metadata": {},
   "outputs": [],
   "source": [
    "dim_address = insert_dim_address(df_consumer_master)"
   ]
  },
  {
   "cell_type": "code",
   "execution_count": 38,
   "id": "054db3ec",
   "metadata": {},
   "outputs": [],
   "source": [
    "dim_product=insert_dim_product(df_product_master)"
   ]
  },
  {
   "cell_type": "code",
   "execution_count": 39,
   "id": "286bf61e",
   "metadata": {},
   "outputs": [],
   "source": [
    "f_order_details = insert_f_order_details(df_order_details,df_order_items)\n"
   ]
  },
  {
   "cell_type": "code",
   "execution_count": 65,
   "id": "cd99cf6a",
   "metadata": {
    "scrolled": false
   },
   "outputs": [
    {
     "name": "stderr",
     "output_type": "stream",
     "text": [
      "\n",
      "KeyboardInterrupt\n",
      "\n"
     ]
    }
   ],
   "source": [
    "fact_daily_orders = insert_fact_daily_orders(df_consumer_master,df_order_details,df_order_items)"
   ]
  },
  {
   "cell_type": "code",
   "execution_count": 59,
   "id": "fa26d790",
   "metadata": {},
   "outputs": [
    {
     "data": {
      "text/plain": [
       "LoadJob<project=pax-11-366616, location=US, id=7f85af4b-4d7d-4fd0-8bcf-6c56b5af5ba2>"
      ]
     },
     "execution_count": 59,
     "metadata": {},
     "output_type": "execute_result"
    }
   ],
   "source": [
    "tableRef1 = client.dataset(\"star_schema\").table(\"dim_order\")\n",
    "client.load_table_from_dataframe(dim_order,tableRef1)"
   ]
  },
  {
   "cell_type": "code",
   "execution_count": 60,
   "id": "dceba32f",
   "metadata": {},
   "outputs": [
    {
     "data": {
      "text/plain": [
       "LoadJob<project=pax-11-366616, location=US, id=74f61190-b72d-4232-9496-b5634debb38e>"
      ]
     },
     "execution_count": 60,
     "metadata": {},
     "output_type": "execute_result"
    }
   ],
   "source": [
    "tableRef2 = client.dataset(\"star_schema\").table(\"dim_customer\")\n",
    "client.load_table_from_dataframe(dim_customer,tableRef2)"
   ]
  },
  {
   "cell_type": "code",
   "execution_count": 61,
   "id": "306152d4",
   "metadata": {},
   "outputs": [
    {
     "data": {
      "text/plain": [
       "LoadJob<project=pax-11-366616, location=US, id=386c80aa-6851-411c-bf53-e30892915bcc>"
      ]
     },
     "execution_count": 61,
     "metadata": {},
     "output_type": "execute_result"
    }
   ],
   "source": [
    "tableRef3 = client.dataset(\"star_schema\").table(\"dim_address\")\n",
    "client.load_table_from_dataframe(dim_address,tableRef3)\n"
   ]
  },
  {
   "cell_type": "code",
   "execution_count": 62,
   "id": "034a8774",
   "metadata": {},
   "outputs": [
    {
     "data": {
      "text/plain": [
       "LoadJob<project=pax-11-366616, location=US, id=570d24f1-0aad-4ae7-9742-d8201d3ebaee>"
      ]
     },
     "execution_count": 62,
     "metadata": {},
     "output_type": "execute_result"
    }
   ],
   "source": [
    "tableRef4 = client.dataset(\"star_schema\").table(\"dim_product\")\n",
    "client.load_table_from_dataframe(dim_product,tableRef4)"
   ]
  },
  {
   "cell_type": "code",
   "execution_count": 63,
   "id": "e0cea060",
   "metadata": {},
   "outputs": [
    {
     "data": {
      "text/plain": [
       "LoadJob<project=pax-11-366616, location=US, id=21b05df4-779d-45e7-917f-e9edf5769b65>"
      ]
     },
     "execution_count": 63,
     "metadata": {},
     "output_type": "execute_result"
    }
   ],
   "source": [
    "tableRef5 = client.dataset(\"star_schema\").table(\"f_order_details\")\n",
    "client.load_table_from_dataframe(f_order_details,tableRef5)"
   ]
  },
  {
   "cell_type": "code",
   "execution_count": null,
   "id": "3201c68d",
   "metadata": {},
   "outputs": [],
   "source": [
    "tableRef6 = client.dataset(\"star_schema\").table(\"fact_daily_orders\")\n",
    "client.load_table_from_dataframe(fact_daily_orders,tableRef6)"
   ]
  },
  {
   "cell_type": "code",
   "execution_count": null,
   "id": "b6c8d913",
   "metadata": {},
   "outputs": [],
   "source": []
  }
 ],
 "metadata": {
  "kernelspec": {
   "display_name": "Python 3 (ipykernel)",
   "language": "python",
   "name": "python3"
  },
  "language_info": {
   "codemirror_mode": {
    "name": "ipython",
    "version": 3
   },
   "file_extension": ".py",
   "mimetype": "text/x-python",
   "name": "python",
   "nbconvert_exporter": "python",
   "pygments_lexer": "ipython3",
   "version": "3.9.12"
  }
 },
 "nbformat": 4,
 "nbformat_minor": 5
}
